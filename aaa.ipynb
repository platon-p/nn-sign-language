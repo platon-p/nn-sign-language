{
 "cells": [
  {
   "cell_type": "code",
   "execution_count": 8,
   "metadata": {},
   "outputs": [],
   "source": [
    "import numpy as np\n",
    "import pandas as pd\n",
    "import matplotlib.pyplot as plt\n",
    "from PIL import Image\n",
    "import os"
   ]
  },
  {
   "cell_type": "code",
   "execution_count": 12,
   "metadata": {},
   "outputs": [],
   "source": [
    "w, h = 40, 40"
   ]
  },
  {
   "cell_type": "code",
   "execution_count": 3,
   "metadata": {},
   "outputs": [],
   "source": [
    "# open ./converted/0/hand4_0_bot_seg_5_cropped.jpeg \n",
    "pixels = np.array(Image.open('./converted/0/hand4_0_bot_seg_5_cropped.jpeg'))"
   ]
  },
  {
   "cell_type": "code",
   "execution_count": 9,
   "metadata": {},
   "outputs": [
    {
     "data": {
      "text/plain": [
       "<matplotlib.image.AxesImage at 0x1639c8edc00>"
      ]
     },
     "execution_count": 9,
     "metadata": {},
     "output_type": "execute_result"
    },
    {
     "data": {
      "image/png": "[encoded data removed]",
      "text/plain": [
       "<Figure size 432x288 with 1 Axes>"
      ]
     },
     "metadata": {
      "needs_background": "light"
     },
     "output_type": "display_data"
    }
   ],
   "source": [
    "# dont show axes\n",
    "plt.imshow(pixels, cmap='gray')"
   ]
  },
  {
   "cell_type": "code",
   "execution_count": 91,
   "metadata": {},
   "outputs": [],
   "source": [
    "lamda = 0.5\n",
    "alpha = 0.5"
   ]
  },
  {
   "cell_type": "code",
   "execution_count": 109,
   "metadata": {},
   "outputs": [
    {
     "data": {
      "text/plain": [
       "700"
      ]
     },
     "execution_count": 109,
     "metadata": {},
     "output_type": "execute_result"
    }
   ],
   "source": [
    "n_files = 0\n",
    "for file in os.walk('./converted'):\n",
    "    n_files += len(file[2])\n",
    "n_files"
   ]
  },
  {
   "cell_type": "code",
   "execution_count": 126,
   "metadata": {},
   "outputs": [],
   "source": [
    "X = np.zeros((n_files, w * h), dtype=np.uint8)\n",
    "# y - vector\n",
    "y = np.array([0] * n_files)\n",
    "\n",
    "theta = np.zeros((1, 1))"
   ]
  },
  {
   "cell_type": "code",
   "execution_count": 129,
   "metadata": {},
   "outputs": [
    {
     "data": {
      "text/plain": [
       "(700, 1600)"
      ]
     },
     "execution_count": 129,
     "metadata": {},
     "output_type": "execute_result"
    }
   ],
   "source": [
    "X.shape"
   ]
  },
  {
   "cell_type": "code",
   "execution_count": 162,
   "metadata": {},
   "outputs": [],
   "source": [
    "for i, digit_dir in enumerate(os.listdir('./converted/')):\n",
    "    for j, file_name in enumerate(os.listdir('./converted/' + digit_dir)):\n",
    "        pixels = np.array(Image.open('./converted/' + digit_dir + '/' + file_name))  # 40x40 image\n",
    "        # add vectorized image to X\n",
    "        X[i * n_files // 10 + j, :] = pixels.reshape(1, -1)\n",
    "        y[i * 70 + j] = int(digit_dir)\n"
   ]
  },
  {
   "cell_type": "code",
   "execution_count": 166,
   "metadata": {},
   "outputs": [],
   "source": [
    "hidden_layer_size = 1800\n",
    "hidden_layer = np.zeros((hidden_layer_size, 1))"
   ]
  },
  {
   "cell_type": "code",
   "execution_count": 167,
   "metadata": {},
   "outputs": [],
   "source": [
    "output_layer_size = 10\n",
    "output_layer = np.zeros((output_layer_size, 1))"
   ]
  },
  {
   "cell_type": "code",
   "execution_count": 168,
   "metadata": {},
   "outputs": [],
   "source": [
    "def predict(X, theta):\n",
    "    return np.dot(X, theta)"
   ]
  },
  {
   "cell_type": "code",
   "execution_count": 169,
   "metadata": {},
   "outputs": [],
   "source": [
    "def sigmoid(z):\n",
    "    return 1 / (1 + np.exp(-z))"
   ]
  },
  {
   "cell_type": "code",
   "execution_count": 174,
   "metadata": {},
   "outputs": [],
   "source": [
    "def gradientDescent(X, y, theta, alpha, lamda, iters) -> np.ndarray:\n",
    "    m = X.shape[0]\n",
    "    for i in range(iters):\n",
    "        hidden_layer = sigmoid(np.dot(X, theta))\n",
    "        output_layer = sigmoid(np.dot(hidden_layer, theta.T))\n",
    "        theta = theta - alpha * (np.dot(X.T, output_layer - y) + lamda * theta)\n",
    "    return theta"
   ]
  },
  {
   "cell_type": "code",
   "execution_count": 173,
   "metadata": {},
   "outputs": [],
   "source": [
    "def computeCost(X, y, theta, lamda) -> float:\n",
    "    m = X.shape[0]\n",
    "    J = 0\n",
    "    hidden_layer = sigmoid(np.dot(X, theta))\n",
    "    output_layer = sigmoid(np.dot(hidden_layer, theta.T))\n",
    "    J = (1 / m) * np.sum(-y * np.log(output_layer) - (1 - y) * np.log(1 - output_layer)) + (lamda / (2 * m)) * np.sum(theta ** 2)\n",
    "    return J"
   ]
  }
 ],
 "metadata": {
  "kernelspec": {
   "display_name": "Python 3.10.5 64-bit (windows store)",
   "language": "python",
   "name": "python3"
  },
  "language_info": {
   "codemirror_mode": {
    "name": "ipython",
    "version": 3
   },
   "file_extension": ".py",
   "mimetype": "text/x-python",
   "name": "python",
   "nbconvert_exporter": "python",
   "pygments_lexer": "ipython3",
   "version": "3.10.5"
  },
  "orig_nbformat": 4,
  "vscode": {
   "interpreter": {
    "hash": "3b7e9cb8e453d6cda0fe8c8dd13f891a1f09162f0e7c66ffeae7751a7aecf00d"
   }
  }
 },
 "nbformat": 4,
 "nbformat_minor": 2
}
