{
 "cells": [
  {
   "cell_type": "code",
   "execution_count": 116,
   "metadata": {},
   "outputs": [],
   "source": [
    "import numpy as np\n",
    "import pandas as pd\n",
    "import matplotlib.pyplot as plt\n",
    "from PIL import Image\n",
    "import os"
   ]
  },
  {
   "cell_type": "code",
   "execution_count": 117,
   "metadata": {},
   "outputs": [],
   "source": [
    "w, h = 40, 40"
   ]
  },
  {
   "cell_type": "code",
   "execution_count": 118,
   "metadata": {},
   "outputs": [],
   "source": [
    "# open ./converted/0/hand4_0_bot_seg_5_cropped.jpeg \n",
    "pixels = np.array(Image.open('./converted/0/hand4_0_bot_seg_5_cropped.jpeg'))"
   ]
  },
  {
   "cell_type": "code",
   "execution_count": 119,
   "metadata": {},
   "outputs": [
    {
     "data": {
      "image/png": "[encoded data removed]",
      "text/plain": [
       "<Figure size 432x288 with 1 Axes>"
      ]
     },
     "metadata": {
      "needs_background": "light"
     },
     "output_type": "display_data"
    }
   ],
   "source": [
    "# hide axes\n",
    "plt.imshow(pixels, cmap='gray')\n",
    "plt.axis('off')\n",
    "plt.show()"
   ]
  },
  {
   "cell_type": "code",
   "execution_count": 120,
   "metadata": {},
   "outputs": [
    {
     "data": {
      "text/plain": [
       "700"
      ]
     },
     "execution_count": 120,
     "metadata": {},
     "output_type": "execute_result"
    }
   ],
   "source": [
    "n_files = 0\n",
    "for file in os.walk('./converted'):\n",
    "    n_files += len(file[2])\n",
    "n_files"
   ]
  },
  {
   "cell_type": "code",
   "execution_count": 121,
   "metadata": {},
   "outputs": [],
   "source": [
    "X = np.zeros((n_files, w * h), dtype=np.uint8)\n",
    "# y - 10xn_files matrix of nulls\n",
    "y = np.zeros((n_files, 10))"
   ]
  },
  {
   "cell_type": "code",
   "execution_count": 172,
   "metadata": {},
   "outputs": [
    {
     "data": {
      "text/plain": [
       "(10,)"
      ]
     },
     "execution_count": 172,
     "metadata": {},
     "output_type": "execute_result"
    }
   ],
   "source": [
    "# save X and y to file .mat\n",
    "y[0].shape"
   ]
  },
  {
   "cell_type": "code",
   "execution_count": 122,
   "metadata": {},
   "outputs": [
    {
     "data": {
      "text/plain": [
       "(700, 10)"
      ]
     },
     "execution_count": 122,
     "metadata": {},
     "output_type": "execute_result"
    }
   ],
   "source": [
    "y.shape"
   ]
  },
  {
   "cell_type": "code",
   "execution_count": 123,
   "metadata": {},
   "outputs": [],
   "source": [
    "for i, digit_dir in enumerate(os.listdir('./converted/')):\n",
    "    for j, file_name in enumerate(os.listdir('./converted/' + digit_dir)):\n",
    "        pixels = np.array(Image.open('./converted/' + digit_dir + '/' + file_name))  # 40x40 image\n",
    "        # add vectorized image to X\n",
    "        X[i * n_files // 10 + j, :] = pixels.reshape(1, -1)\n",
    "        y[i * n_files // 10 + j, i] = 1"
   ]
  },
  {
   "cell_type": "code",
   "execution_count": 124,
   "metadata": {},
   "outputs": [],
   "source": [
    "def sigmoid(x):\n",
    "    return 1 / (1 + np.exp(-x))"
   ]
  },
  {
   "cell_type": "code",
   "execution_count": 125,
   "metadata": {},
   "outputs": [],
   "source": [
    "def sigmoid_derivative(x):\n",
    "    return sigmoid(x) * (1 - sigmoid(x))"
   ]
  },
  {
   "cell_type": "code",
   "execution_count": 126,
   "metadata": {},
   "outputs": [],
   "source": [
    "input_layer_size = 1600 + 1"
   ]
  },
  {
   "cell_type": "code",
   "execution_count": 127,
   "metadata": {},
   "outputs": [],
   "source": [
    "hidden_layer_size = 2000\n",
    "hidden_layer = np.zeros((hidden_layer_size, 1))"
   ]
  },
  {
   "cell_type": "code",
   "execution_count": 128,
   "metadata": {},
   "outputs": [],
   "source": [
    "output_layer_size = 10\n",
    "output_layer = np.zeros((output_layer_size, 1))"
   ]
  },
  {
   "cell_type": "code",
   "execution_count": 129,
   "metadata": {},
   "outputs": [],
   "source": [
    "# theta1 - weights between input and hidden layer\n",
    "Theta1 = np.random.rand(hidden_layer_size, w * h + 1) * 0.1\n",
    "\n",
    "Theta2 = np.random.rand(output_layer_size, hidden_layer_size + 1) * 0.1"
   ]
  },
  {
   "cell_type": "code",
   "execution_count": 130,
   "metadata": {},
   "outputs": [
    {
     "data": {
      "text/plain": [
       "(2000, 1601)"
      ]
     },
     "execution_count": 130,
     "metadata": {},
     "output_type": "execute_result"
    }
   ],
   "source": [
    "Theta1.shape"
   ]
  },
  {
   "cell_type": "code",
   "execution_count": 131,
   "metadata": {},
   "outputs": [],
   "source": [
    "input_layer = X[0]\n",
    "hidden_layer = sigmoid(np.dot(Theta1[:, 1:], input_layer))"
   ]
  },
  {
   "cell_type": "code",
   "execution_count": 156,
   "metadata": {},
   "outputs": [],
   "source": [
    "# random values of Theta1 shape\n",
    "Theta1_grad = 0.02 + np.random.rand(Theta1.shape[0], Theta1.shape[1])\n",
    "\n",
    "Theta2_grad = 0.02 + np.random.rand(*Theta2.shape)"
   ]
  },
  {
   "cell_type": "code",
   "execution_count": 133,
   "metadata": {},
   "outputs": [],
   "source": [
    "def front_propagation(x_i):\n",
    "    input_layer = np.append(1, x_i)\n",
    "\n",
    "    hidden_layer = sigmoid(np.dot(Theta1, input_layer))\n",
    "    hidden_layer = np.append(1, hidden_layer)\n",
    "\n",
    "    output_layer = sigmoid(np.dot(Theta2, hidden_layer))\n",
    "\n",
    "    for i in output_layer:\n",
    "        if int(i) == 1:\n",
    "            return i"
   ]
  },
  {
   "cell_type": "code",
   "execution_count": 134,
   "metadata": {},
   "outputs": [],
   "source": [
    "def predict(image_path):\n",
    "    pixels = np.array(Image.open(image_path))\n",
    "    labels = ['0', '1', '2', '3', '4', '5', '6', '7', '8', '9']\n",
    "    return labels[front_propagation(pixels)]"
   ]
  },
  {
   "cell_type": "code",
   "execution_count": 136,
   "metadata": {},
   "outputs": [],
   "source": [
    "# print(predict('./converted/0/hand1_0_bot_seg_1_cropped.jpeg'))"
   ]
  },
  {
   "cell_type": "code",
   "execution_count": 157,
   "metadata": {},
   "outputs": [],
   "source": [
    "for t in range(X.shape[0]):\n",
    "    a_1 = np.append(1, X[t]).reshape(1, -1).T\n",
    "    z_2 = np.dot(Theta1, a_1)\n",
    "    a_2 = np.append(1, sigmoid(z_2))\n",
    "    z_3 = np.dot(Theta2, a_2)\n",
    "    a_3 = sigmoid(z_3)\n",
    "    y_t = y[t]\n",
    "    delta_3 = a_3 - y_t\n",
    "    aaaa = np.append(0, sigmoid_derivative(z_2))\n",
    "    delta_2 = np.dot(Theta2.T, delta_3) * aaaa\n",
    "    delta_2 = delta_2[1:].reshape(1, -1).T\n",
    "    Theta1_grad = Theta1_grad + np.dot(delta_2, a_1.T)\n",
    "    a_2 = a_2.reshape(1, -1).T\n",
    "    delta_3 = delta_3.reshape(1, -1).T\n",
    "    Theta2_grad = Theta2_grad + np.dot(delta_3, a_2.T)\n",
    "\n",
    "Theta1_grad = (1 / X.shape[0]) * Theta1_grad\n",
    "Theta2_grad = (1 / X.shape[0]) * Theta2_grad\n"
   ]
  },
  {
   "cell_type": "code",
   "execution_count": 169,
   "metadata": {},
   "outputs": [],
   "source": [
    "from scipy.optimize import fmin_cg"
   ]
  },
  {
   "cell_type": "code",
   "execution_count": null,
   "metadata": {},
   "outputs": [],
   "source": []
  }
 ],
 "metadata": {
  "kernelspec": {
   "display_name": "Python 3.10.5 64-bit (windows store)",
   "language": "python",
   "name": "python3"
  },
  "language_info": {
   "codemirror_mode": {
    "name": "ipython",
    "version": 3
   },
   "file_extension": ".py",
   "mimetype": "text/x-python",
   "name": "python",
   "nbconvert_exporter": "python",
   "pygments_lexer": "ipython3",
   "version": "3.10.5"
  },
  "orig_nbformat": 4,
  "vscode": {
   "interpreter": {
    "hash": "3b7e9cb8e453d6cda0fe8c8dd13f891a1f09162f0e7c66ffeae7751a7aecf00d"
   }
  }
 },
 "nbformat": 4,
 "nbformat_minor": 2
}
